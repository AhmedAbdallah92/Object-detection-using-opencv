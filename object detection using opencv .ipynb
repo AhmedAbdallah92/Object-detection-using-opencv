{
 "cells": [
  {
   "cell_type": "code",
   "execution_count": null,
   "id": "93bdf737",
   "metadata": {},
   "outputs": [],
   "source": [
    "import win32com.client\n",
    "import numpy as np\n",
    "import cv2\n",
    "import time\n",
    "\n",
    "cam = cv2.VideoCapture(0)\n",
    "cam.set(3, 740)\n",
    "cam.set(4,580)\n",
    "speaker = win32com.client.Dispatch(\"SAPI.SpVoice\")\n",
    "\n",
    "classNames= []\n",
    "classFile = 'D:/programs/files/coco.names'\n",
    "with open(classFile, 'rt') as f:\n",
    "    classNames = f.read().rstrip('\\n').split('\\n')\n",
    "    \n",
    "configPath = 'D:/programs/files/ssd_mobilenet_v3_large_coco_2020_01_14.pbtxt'\n",
    "weightPath = 'D:/programs/files/frozen_inference_graph.pb'\n",
    "\n",
    "net =cv2.dnn_DetectionModel(weightPath ,configPath)\n",
    "net.setInputSize(320,230)\n",
    "net.setInputScale(1.0/127.5)\n",
    "net.setInputMean((127.5, 127.5, 127.5))\n",
    "speaks = []\n",
    "for x in range(0, 91, 1): speaks.append(None)\n",
    "\n",
    "while True:\n",
    "    success, img =cam.read()\n",
    "    classIds, confs, bbox =net.detect(img, confThreshold = 0.5) \n",
    "    if len(classIds)!= 0:\n",
    "        for classId in classIds.flatten():\n",
    "            if speaks[classId-1]==None:\n",
    "                speaks[classId-1]=time.time()\n",
    "                speaker.Speak(classNames[classId-1])\n",
    "            else:\n",
    "                if time.time()-speaks[classId-1]>=30:\n",
    "                    speaks[classId-1]=None\n",
    "\n",
    "            \n",
    "    cv2.imshow('output',img)\n",
    "    cv2.waitKey(1)"
   ]
  },
  {
   "cell_type": "code",
   "execution_count": null,
   "id": "742a30c3",
   "metadata": {},
   "outputs": [],
   "source": []
  },
  {
   "cell_type": "code",
   "execution_count": null,
   "id": "5d83e1a1",
   "metadata": {},
   "outputs": [],
   "source": []
  },
  {
   "cell_type": "code",
   "execution_count": null,
   "id": "2bf6339f",
   "metadata": {},
   "outputs": [],
   "source": []
  }
 ],
 "metadata": {
  "kernelspec": {
   "display_name": "Python 3 (ipykernel)",
   "language": "python",
   "name": "python3"
  },
  "language_info": {
   "codemirror_mode": {
    "name": "ipython",
    "version": 3
   },
   "file_extension": ".py",
   "mimetype": "text/x-python",
   "name": "python",
   "nbconvert_exporter": "python",
   "pygments_lexer": "ipython3",
   "version": "3.9.7"
  }
 },
 "nbformat": 4,
 "nbformat_minor": 5
}
