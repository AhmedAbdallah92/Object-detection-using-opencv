{
 "cells": [
  {
   "cell_type": "code",
   "execution_count": null,
   "id": "93bdf737",
   "metadata": {},
   "outputs": [],
   "source": [
    "from imutils import paths\n",
    "\n",
    "import win32com.client\n",
    "import numpy as np\n",
    "import imutils\n",
    "import cv2\n",
    "\n",
    "cam = cv2.VideoCapture(0)\n",
    "cam.set(3, 740)\n",
    "cam.set(4,580)\n",
    "speaker = win32com.client.Dispatch(\"SAPI.SpVoice\")\n",
    "\n",
    "classNames= []\n",
    "classFile = 'D:/programs/files/coco.names'\n",
    "with open(classFile, 'rt') as f:\n",
    "    classNames = f.read().rstrip('\\n').split('\\n')\n",
    "    \n",
    "configPath = 'D:/programs/files/ssd_mobilenet_v3_large_coco_2020_01_14.pbtxt'\n",
    "weightPath = 'D:/programs/files/frozen_inference_graph.pb'\n",
    "\n",
    "net =cv2.dnn_DetectionModel(weightPath ,configPath)\n",
    "net.setInputSize(320,230)\n",
    "net.setInputScale(1.0/127.5)\n",
    "net.setInputMean((127.5, 127.5, 127.5))\n",
    "while True:\n",
    "    success, img =cam.read()\n",
    "    classIds, confs, bbox =net.detect(img, confThreshold = 0.5)\n",
    "    print(classIds , bbox)\n",
    "    if len(classIds)!= 0:\n",
    "        for classId, confidence ,box in zip(classIds.flatten(),confs.flatten(), bbox):\n",
    "            cv2.rectangle(img , box , color = (0,255,0), thickness=2)\n",
    "            cv2.putText(img, classNames[classId-1], (box[0]+10, box[1]+20), cv2.FONT_HERSHEY_SIMPLEX, 1, (0,255,0), thickness=2)\n",
    "            speaker.Speak(classNames[classId-1])\n",
    "            \n",
    "    cv2.imshow('output',img)\n",
    "    cv2.waitKey(1)"
   ]
  }
 ],
 "metadata": {
  "kernelspec": {
   "display_name": "Python 3 (ipykernel)",
   "language": "python",
   "name": "python3"
  },
  "language_info": {
   "codemirror_mode": {
    "name": "ipython",
    "version": 3
   },
   "file_extension": ".py",
   "mimetype": "text/x-python",
   "name": "python",
   "nbconvert_exporter": "python",
   "pygments_lexer": "ipython3",
   "version": "3.9.7"
  }
 },
 "nbformat": 4,
 "nbformat_minor": 5
}
